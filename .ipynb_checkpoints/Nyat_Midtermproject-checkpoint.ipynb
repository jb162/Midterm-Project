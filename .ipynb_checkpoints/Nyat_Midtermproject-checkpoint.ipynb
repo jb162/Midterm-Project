{
 "cells": [
  {
   "cell_type": "code",
   "execution_count": 29,
   "id": "1fda4a82",
   "metadata": {},
   "outputs": [],
   "source": [
    "import csv\n",
    "import pandas as pd\n",
    "import os\n",
    "import warnings\n",
    "warnings.simplefilter(action='ignore', category=FutureWarning)\n",
    "import matplotlib.pylab as plt\n",
    "import numpy as np"
   ]
  },
  {
   "cell_type": "code",
   "execution_count": 30,
   "id": "cce3b9cc",
   "metadata": {},
   "outputs": [
    {
     "data": {
      "text/html": [
       "<div>\n",
       "<style scoped>\n",
       "    .dataframe tbody tr th:only-of-type {\n",
       "        vertical-align: middle;\n",
       "    }\n",
       "\n",
       "    .dataframe tbody tr th {\n",
       "        vertical-align: top;\n",
       "    }\n",
       "\n",
       "    .dataframe thead th {\n",
       "        text-align: right;\n",
       "    }\n",
       "</style>\n",
       "<table border=\"1\" class=\"dataframe\">\n",
       "  <thead>\n",
       "    <tr style=\"text-align: right;\">\n",
       "      <th></th>\n",
       "      <th>Title</th>\n",
       "      <th>Year</th>\n",
       "      <th>Age</th>\n",
       "      <th>Rotten Tomatoes</th>\n",
       "      <th>Netflix</th>\n",
       "      <th>Hulu</th>\n",
       "      <th>Prime Video</th>\n",
       "      <th>Disney+</th>\n",
       "      <th>Type</th>\n",
       "    </tr>\n",
       "    <tr>\n",
       "      <th>ID</th>\n",
       "      <th></th>\n",
       "      <th></th>\n",
       "      <th></th>\n",
       "      <th></th>\n",
       "      <th></th>\n",
       "      <th></th>\n",
       "      <th></th>\n",
       "      <th></th>\n",
       "      <th></th>\n",
       "    </tr>\n",
       "  </thead>\n",
       "  <tbody>\n",
       "    <tr>\n",
       "      <th>1</th>\n",
       "      <td>The Irishman</td>\n",
       "      <td>2019</td>\n",
       "      <td>18+</td>\n",
       "      <td>98/100</td>\n",
       "      <td>1</td>\n",
       "      <td>0</td>\n",
       "      <td>0</td>\n",
       "      <td>0</td>\n",
       "      <td>0</td>\n",
       "    </tr>\n",
       "    <tr>\n",
       "      <th>2</th>\n",
       "      <td>Dangal</td>\n",
       "      <td>2016</td>\n",
       "      <td>7+</td>\n",
       "      <td>97/100</td>\n",
       "      <td>1</td>\n",
       "      <td>0</td>\n",
       "      <td>0</td>\n",
       "      <td>0</td>\n",
       "      <td>0</td>\n",
       "    </tr>\n",
       "    <tr>\n",
       "      <th>3</th>\n",
       "      <td>David Attenborough: A Life on Our Planet</td>\n",
       "      <td>2020</td>\n",
       "      <td>7+</td>\n",
       "      <td>95/100</td>\n",
       "      <td>1</td>\n",
       "      <td>0</td>\n",
       "      <td>0</td>\n",
       "      <td>0</td>\n",
       "      <td>0</td>\n",
       "    </tr>\n",
       "    <tr>\n",
       "      <th>4</th>\n",
       "      <td>Lagaan: Once Upon a Time in India</td>\n",
       "      <td>2001</td>\n",
       "      <td>7+</td>\n",
       "      <td>94/100</td>\n",
       "      <td>1</td>\n",
       "      <td>0</td>\n",
       "      <td>0</td>\n",
       "      <td>0</td>\n",
       "      <td>0</td>\n",
       "    </tr>\n",
       "    <tr>\n",
       "      <th>5</th>\n",
       "      <td>Roma</td>\n",
       "      <td>2018</td>\n",
       "      <td>18+</td>\n",
       "      <td>94/100</td>\n",
       "      <td>1</td>\n",
       "      <td>0</td>\n",
       "      <td>0</td>\n",
       "      <td>0</td>\n",
       "      <td>0</td>\n",
       "    </tr>\n",
       "  </tbody>\n",
       "</table>\n",
       "</div>"
      ],
      "text/plain": [
       "                                       Title  Year  Age Rotten Tomatoes  \\\n",
       "ID                                                                        \n",
       "1                               The Irishman  2019  18+          98/100   \n",
       "2                                     Dangal  2016   7+          97/100   \n",
       "3   David Attenborough: A Life on Our Planet  2020   7+          95/100   \n",
       "4          Lagaan: Once Upon a Time in India  2001   7+          94/100   \n",
       "5                                       Roma  2018  18+          94/100   \n",
       "\n",
       "    Netflix  Hulu  Prime Video  Disney+  Type  \n",
       "ID                                             \n",
       "1         1     0            0        0     0  \n",
       "2         1     0            0        0     0  \n",
       "3         1     0            0        0     0  \n",
       "4         1     0            0        0     0  \n",
       "5         1     0            0        0     0  "
      ]
     },
     "execution_count": 30,
     "metadata": {},
     "output_type": "execute_result"
    }
   ],
   "source": [
    "movies_df = pd.read_csv('./MoviesOnStreamingPlatforms.csv')\n",
    "movies_df.head(10)\n",
    "movies_df=movies_df.iloc[:, 1:].set_index('ID')\n",
    "movies_df.head(5)\n",
    "\n",
    "\n"
   ]
  },
  {
   "cell_type": "code",
   "execution_count": 31,
   "id": "eba9b3d8",
   "metadata": {},
   "outputs": [],
   "source": [
    "#Iterate through each row \n",
    "\n",
    "movies_df['Streaming platform']=''\n",
    "for each_platform in ['Netflix', 'Hulu', 'Prime Video', 'Disney+']: \n",
    "    movies_df.loc[movies_df[each_platform]==1, 'Streaming platform']=each_platform"
   ]
  },
  {
   "cell_type": "markdown",
   "id": "61c71094",
   "metadata": {},
   "source": [
    "Which streaming platform offers the most movies? "
   ]
  },
  {
   "cell_type": "code",
   "execution_count": 32,
   "id": "28b77c06",
   "metadata": {},
   "outputs": [
    {
     "data": {
      "text/plain": [
       "Prime Video    4100\n",
       "Netflix        3550\n",
       "Hulu            943\n",
       "Disney+         922\n",
       "Name: Streaming platform, dtype: int64"
      ]
     },
     "execution_count": 32,
     "metadata": {},
     "output_type": "execute_result"
    }
   ],
   "source": [
    "movies_df['Streaming platform'].value_counts()\n"
   ]
  },
  {
   "cell_type": "markdown",
   "id": "7497bd53",
   "metadata": {},
   "source": [
    "Which streaming platform provides movies with better ratings?"
   ]
  },
  {
   "cell_type": "code",
   "execution_count": 33,
   "id": "59158d76",
   "metadata": {},
   "outputs": [],
   "source": [
    "movies_df['New_Ratings'] = movies_df['Rotten Tomatoes'].str.replace('%','')\n",
    "\n",
    "for i in movies_df[\"New_Ratings\"]:\n",
    "    if i ==str:\n",
    "        i.astype(int)     \n",
    "                                                                        "
   ]
  },
  {
   "cell_type": "code",
   "execution_count": 34,
   "id": "d480093e",
   "metadata": {
    "scrolled": true
   },
   "outputs": [
    {
     "data": {
      "text/plain": [
       "Streaming platform  Rotten Tomatoes\n",
       "Prime Video         42/100             174\n",
       "                    44/100             171\n",
       "                    43/100             168\n",
       "                    41/100             164\n",
       "                    39/100             156\n",
       "                                      ... \n",
       "Netflix             16/100               1\n",
       "                    27/100               1\n",
       "                    20/100               1\n",
       "                    21/100               1\n",
       "Hulu                20/100               1\n",
       "Length: 281, dtype: int64"
      ]
     },
     "execution_count": 34,
     "metadata": {},
     "output_type": "execute_result"
    }
   ],
   "source": [
    "movies_df[['Streaming platform','Rotten Tomatoes']].value_counts()\n"
   ]
  },
  {
   "cell_type": "markdown",
   "id": "1f3213f6",
   "metadata": {},
   "source": [
    "Which streaming platform offers the most movies for the 16+ and 18+ age groups? "
   ]
  },
  {
   "cell_type": "code",
   "execution_count": 35,
   "id": "665933db",
   "metadata": {
    "scrolled": true
   },
   "outputs": [
    {
     "data": {
      "text/plain": [
       "Age  Streaming platform\n",
       "07+  Disney+                278\n",
       "     Hulu                    88\n",
       "     Netflix                304\n",
       "     Prime Video            420\n",
       "13+  Disney+                 70\n",
       "     Hulu                   161\n",
       "     Netflix                372\n",
       "     Prime Video            395\n",
       "16+  Disney+                  4\n",
       "     Hulu                    26\n",
       "     Netflix                149\n",
       "     Prime Video             97\n",
       "18+  Disney+                  3\n",
       "     Hulu                   342\n",
       "     Netflix                842\n",
       "     Prime Video           1089\n",
       "all  Disney+                370\n",
       "     Hulu                    33\n",
       "     Netflix                139\n",
       "     Prime Video            156\n",
       "dtype: int64"
      ]
     },
     "execution_count": 35,
     "metadata": {},
     "output_type": "execute_result"
    }
   ],
   "source": [
    "movies_df[\"Age\"]=movies_df[\"Age\"].replace(\"7+\",\"07+\")\n",
    "movies_df[['Age','Streaming platform']].value_counts().sort_index(ascending=True)"
   ]
  },
  {
   "cell_type": "code",
   "execution_count": 36,
   "id": "b8f2427c",
   "metadata": {},
   "outputs": [
    {
     "data": {
      "image/png": "[encoded data removed]",
      "text/plain": [
       "<Figure size 432x288 with 1 Axes>"
      ]
     },
     "metadata": {
      "needs_background": "light"
     },
     "output_type": "display_data"
    }
   ],
   "source": [
    "import seaborn as sns\n",
    "ratings_df = movies_df.groupby(['Age', 'Streaming platform']).count()\n",
    "ratings_df.reset_index(inplace=True)\n",
    "sns.barplot(x = 'Streaming platform',\n",
    "          y = 'Title',\n",
    "          hue = 'Age',\n",
    "          data = ratings_df,\n",
    "          palette = \"Reds\")\n",
    "\n",
    "plt.ylabel('Number of Movies')\n",
    "plt.show()"
   ]
  },
  {
   "cell_type": "code",
   "execution_count": null,
   "id": "0ddf5fea",
   "metadata": {},
   "outputs": [],
   "source": []
  },
  {
   "cell_type": "code",
   "execution_count": 28,
   "id": "0e7d06b6",
   "metadata": {},
   "outputs": [],
   "source": [
    "#result = movies_df.explode('Rotten Tomatoes').reset_index(drop=False)\n",
    "#result = result.assign(Names=result['Age'].astype('category'), \n",
    "                       #Values=result['Streaming platform'].astype(np.float32))"
   ]
  },
  {
   "cell_type": "code",
   "execution_count": 26,
   "id": "144f3bb4",
   "metadata": {},
   "outputs": [],
   "source": [
    "#movies_df[['Age','Streaming platform']].value_counts().sort_index(ascending=True).plot(kind=\"bar\");\n",
    "\n",
    "#plt.xlabel('Streaming Platform by Age')\n",
    "#x_pos = plt.xlabel('Streaming Platform by Age')\n",
    "#plt.ylabel('Number of Movies')\n",
    "\n",
    "#plt.bar(x_pos, height=h, color=['black', 'red', 'green', 'blue', 'cyan'])    \n"
   ]
  }
 ],
 "metadata": {
  "kernelspec": {
   "display_name": "Python 3 (ipykernel)",
   "language": "python",
   "name": "python3"
  },
  "language_info": {
   "codemirror_mode": {
    "name": "ipython",
    "version": 3
   },
   "file_extension": ".py",
   "mimetype": "text/x-python",
   "name": "python",
   "nbconvert_exporter": "python",
   "pygments_lexer": "ipython3",
   "version": "3.9.7"
  }
 },
 "nbformat": 4,
 "nbformat_minor": 5
}
