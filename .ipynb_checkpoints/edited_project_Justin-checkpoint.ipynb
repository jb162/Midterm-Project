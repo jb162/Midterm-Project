{
 "cells": [
  {
   "cell_type": "code",
   "execution_count": 2,
   "id": "f5fe9141",
   "metadata": {},
   "outputs": [],
   "source": [
    "%matplotlib inline"
   ]
  },
  {
   "cell_type": "code",
   "execution_count": 3,
   "id": "83de36dd",
   "metadata": {},
   "outputs": [],
   "source": [
    "import pandas as pd\n",
    "pd.options.mode.chained_assignment = None\n",
    "import numpy as np\n",
    "import matplotlib.pyplot as plt"
   ]
  },
  {
   "cell_type": "code",
   "execution_count": 4,
   "id": "9a60ac61",
   "metadata": {},
   "outputs": [
    {
     "data": {
      "text/html": [
       "<div>\n",
       "<style scoped>\n",
       "    .dataframe tbody tr th:only-of-type {\n",
       "        vertical-align: middle;\n",
       "    }\n",
       "\n",
       "    .dataframe tbody tr th {\n",
       "        vertical-align: top;\n",
       "    }\n",
       "\n",
       "    .dataframe thead th {\n",
       "        text-align: right;\n",
       "    }\n",
       "</style>\n",
       "<table border=\"1\" class=\"dataframe\">\n",
       "  <thead>\n",
       "    <tr style=\"text-align: right;\">\n",
       "      <th></th>\n",
       "      <th>Title</th>\n",
       "      <th>Year</th>\n",
       "      <th>Age</th>\n",
       "      <th>Rotten Tomatoes</th>\n",
       "      <th>Netflix</th>\n",
       "      <th>Hulu</th>\n",
       "      <th>Prime Video</th>\n",
       "      <th>Disney+</th>\n",
       "      <th>Type</th>\n",
       "    </tr>\n",
       "    <tr>\n",
       "      <th>ID</th>\n",
       "      <th></th>\n",
       "      <th></th>\n",
       "      <th></th>\n",
       "      <th></th>\n",
       "      <th></th>\n",
       "      <th></th>\n",
       "      <th></th>\n",
       "      <th></th>\n",
       "      <th></th>\n",
       "    </tr>\n",
       "  </thead>\n",
       "  <tbody>\n",
       "    <tr>\n",
       "      <th>1</th>\n",
       "      <td>The Irishman</td>\n",
       "      <td>2019</td>\n",
       "      <td>18+</td>\n",
       "      <td>98/100</td>\n",
       "      <td>1</td>\n",
       "      <td>0</td>\n",
       "      <td>0</td>\n",
       "      <td>0</td>\n",
       "      <td>0</td>\n",
       "    </tr>\n",
       "    <tr>\n",
       "      <th>2</th>\n",
       "      <td>Dangal</td>\n",
       "      <td>2016</td>\n",
       "      <td>7+</td>\n",
       "      <td>97/100</td>\n",
       "      <td>1</td>\n",
       "      <td>0</td>\n",
       "      <td>0</td>\n",
       "      <td>0</td>\n",
       "      <td>0</td>\n",
       "    </tr>\n",
       "    <tr>\n",
       "      <th>3</th>\n",
       "      <td>David Attenborough: A Life on Our Planet</td>\n",
       "      <td>2020</td>\n",
       "      <td>7+</td>\n",
       "      <td>95/100</td>\n",
       "      <td>1</td>\n",
       "      <td>0</td>\n",
       "      <td>0</td>\n",
       "      <td>0</td>\n",
       "      <td>0</td>\n",
       "    </tr>\n",
       "    <tr>\n",
       "      <th>4</th>\n",
       "      <td>Lagaan: Once Upon a Time in India</td>\n",
       "      <td>2001</td>\n",
       "      <td>7+</td>\n",
       "      <td>94/100</td>\n",
       "      <td>1</td>\n",
       "      <td>0</td>\n",
       "      <td>0</td>\n",
       "      <td>0</td>\n",
       "      <td>0</td>\n",
       "    </tr>\n",
       "    <tr>\n",
       "      <th>5</th>\n",
       "      <td>Roma</td>\n",
       "      <td>2018</td>\n",
       "      <td>18+</td>\n",
       "      <td>94/100</td>\n",
       "      <td>1</td>\n",
       "      <td>0</td>\n",
       "      <td>0</td>\n",
       "      <td>0</td>\n",
       "      <td>0</td>\n",
       "    </tr>\n",
       "  </tbody>\n",
       "</table>\n",
       "</div>"
      ],
      "text/plain": [
       "                                       Title  Year  Age Rotten Tomatoes  \\\n",
       "ID                                                                        \n",
       "1                               The Irishman  2019  18+          98/100   \n",
       "2                                     Dangal  2016   7+          97/100   \n",
       "3   David Attenborough: A Life on Our Planet  2020   7+          95/100   \n",
       "4          Lagaan: Once Upon a Time in India  2001   7+          94/100   \n",
       "5                                       Roma  2018  18+          94/100   \n",
       "\n",
       "    Netflix  Hulu  Prime Video  Disney+  Type  \n",
       "ID                                             \n",
       "1         1     0            0        0     0  \n",
       "2         1     0            0        0     0  \n",
       "3         1     0            0        0     0  \n",
       "4         1     0            0        0     0  \n",
       "5         1     0            0        0     0  "
      ]
     },
     "execution_count": 4,
     "metadata": {},
     "output_type": "execute_result"
    }
   ],
   "source": [
    "movies_df = pd.read_csv('./MoviesOnStreamingPlatforms.csv')\n",
    "movies_df=movies_df.iloc[:, 1:].set_index('ID')\n",
    "movies_df.head()"
   ]
  },
  {
   "cell_type": "code",
   "execution_count": 5,
   "id": "e7e039dc",
   "metadata": {},
   "outputs": [],
   "source": [
    "movies_df['Streaming platform']=''\n",
    "for each_platform in ['Netflix', 'Hulu', 'Prime Video', 'Disney+']: \n",
    "    movies_df.loc[movies_df[each_platform]==1, 'Streaming platform']=each_platform"
   ]
  },
  {
   "cell_type": "markdown",
   "id": "4dd9db7a",
   "metadata": {},
   "source": [
    "# Which streaming platform offers recent movies?\n"
   ]
  },
  {
   "cell_type": "code",
   "execution_count": 6,
   "id": "678e5aa3",
   "metadata": {},
   "outputs": [
    {
     "data": {
      "image/png": "[encoded data removed]",
      "text/plain": [
       "<Figure size 432x288 with 1 Axes>"
      ]
     },
     "metadata": {
      "needs_background": "light"
     },
     "output_type": "display_data"
    }
   ],
   "source": [
    "grouped_df = movies_df.groupby('Streaming platform')\n",
    "year_data = {\n",
    "    \"Netflix\": [],\n",
    "    \"Hulu\": [],\n",
    "    \"Prime Video\": [],\n",
    "    \"Disney+\": []\n",
    "}\n",
    "\n",
    "for each_platform in ['Netflix', 'Hulu', 'Prime Video', 'Disney+']:\n",
    "    new_data = []\n",
    "    for index, row in grouped_df.get_group(each_platform).iterrows():    \n",
    "        new_data.append(row['Year'])\n",
    "    year_data[f'{each_platform}'] = new_data\n",
    "    \n",
    "plot_data = []\n",
    "plot_labels = ['Netflix', 'Hulu', 'Prime Video', 'Disney+']\n",
    "for attr, value in year_data.items():\n",
    "    plot_data.append(value)\n",
    "    \n",
    "fig = plt.figure()\n",
    "ax = fig.add_subplot()\n",
    "ax.boxplot(plot_data, vert=False, labels=plot_labels)\n",
    "ax.set_xlabel('Release Year')\n",
    "        \n",
    "plt.show()\n"
   ]
  },
  {
   "cell_type": "markdown",
   "id": "493e6eb2",
   "metadata": {},
   "source": [
    "# Which streaming platform provides movies with better score?"
   ]
  },
  {
   "cell_type": "code",
   "execution_count": 9,
   "id": "e81453e9",
   "metadata": {},
   "outputs": [
    {
     "data": {
      "image/png": "[encoded data removed]",
      "text/plain": [
       "<Figure size 432x288 with 1 Axes>"
      ]
     },
     "metadata": {
      "needs_background": "light"
     },
     "output_type": "display_data"
    }
   ],
   "source": [
    "score_data = {\n",
    "    \"Netflix\": [],\n",
    "    \"Hulu\": [],\n",
    "    \"Prime Video\": [],\n",
    "    \"Disney+\": []\n",
    "}\n",
    "\n",
    "for each_platform in ['Netflix', 'Hulu', 'Prime Video', 'Disney+']:\n",
    "    new_data = []\n",
    "    for index, row in grouped_df.get_group(each_platform).iterrows():\n",
    "        if (len(str(row['Rotten Tomatoes']).split('/'))==2):\n",
    "            score = float(row['Rotten Tomatoes'].split('/')[0])\n",
    "            new_data.append(score)\n",
    "    score_data[f'{each_platform}'] = new_data\n",
    "                        \n",
    "score_plot_data = []\n",
    "for attr, value in score_data.items():\n",
    "    score_plot_data.append(value)\n",
    "    \n",
    "score_fig = plt.figure()\n",
    "score_ax = score_fig.add_subplot()\n",
    "score_ax.boxplot(score_plot_data, vert=False, labels=plot_labels)\n",
    "score_ax.set_xlabel('Score (Rotten Tomatoes)')\n",
    "        \n",
    "plt.show()"
   ]
  },
  {
   "cell_type": "markdown",
   "id": "7e27dd26",
   "metadata": {},
   "source": [
    "# Which streaming platform offers the highest number of movies?"
   ]
  },
  {
   "cell_type": "code",
   "execution_count": 50,
   "id": "b79a87eb",
   "metadata": {},
   "outputs": [
    {
     "data": {
      "image/png": "[encoded data removed]",
      "text/plain": [
       "<Figure size 432x288 with 1 Axes>"
      ]
     },
     "metadata": {
      "needs_background": "light"
     },
     "output_type": "display_data"
    }
   ],
   "source": [
    "sum_plot_data = []\n",
    "for each_platform in ['Netflix', 'Hulu', 'Prime Video', 'Disney+']:\n",
    "    sum_plot_data.append(movies_df['Streaming platform'].value_counts()[each_platform])\n",
    "    \n",
    "\n",
    "    \n",
    "plt.bar(plot_labels, sum_plot_data)\n",
    "plt.xlabel(\"Streaming Platform\")\n",
    "plt.ylabel(\"Total Number of Movies\")\n",
    "plt.title(\"Total Movies vs Streaming Platform\")\n",
    "        \n",
    "plt.show()"
   ]
  },
  {
   "cell_type": "markdown",
   "id": "c2efcc85",
   "metadata": {},
   "source": [
    "# Which streaming platform offers the highest number of good movies?"
   ]
  },
  {
   "cell_type": "code",
   "execution_count": 49,
   "id": "e1b04303",
   "metadata": {},
   "outputs": [
    {
     "data": {
      "text/plain": [
       "[]"
      ]
     },
     "execution_count": 49,
     "metadata": {},
     "output_type": "execute_result"
    },
    {
     "data": {
      "image/png": "[encoded data removed]",
      "text/plain": [
       "<Figure size 432x288 with 1 Axes>"
      ]
     },
     "metadata": {
      "needs_background": "light"
     },
     "output_type": "display_data"
    }
   ],
   "source": [
    "good_sum_plot_data = []\n",
    "\n",
    "for each_platform in ['Netflix', 'Hulu', 'Prime Video', 'Disney+']:\n",
    "    new_data = []\n",
    "    for index, row in grouped_df.get_group(each_platform).iterrows():\n",
    "        if (len(str(row['Rotten Tomatoes']).split('/'))==2):\n",
    "            score = float(row['Rotten Tomatoes'].split('/')[0])\n",
    "            if (score >= 60):\n",
    "                new_data.append(score)\n",
    "    good_sum_plot_data.append(len(new_data))\n",
    "\n",
    "df = pd.DataFrame()\n",
    "df['Streaming Platform'] = ['Netflix', 'Hulu', 'Prime Video', 'Disney+']\n",
    "df['Sum'] = sum_plot_data\n",
    "df['Sum_Fresh'] = good_sum_plot_data\n",
    "\n",
    "# df.sort_values(by=\"Sum_Fresh\", ascending=False)\n",
    "\n",
    "ax = df.plot(x=\"Streaming Platform\", y=[\"Sum\",\"Sum_Fresh\"], kind=\"bar\", color={\"Sum\": \"blue\", \"Sum_Fresh\": \"green\"})\n",
    "ax.set_ylabel(\"Number of Movies\")\n",
    "ax.legend(labels=[\"Movies\", \"Fresh Movies\"], loc=\"upper right\")\n",
    "plt.title(\"Total Movies vs Streaming Platform\")\n",
    "\n",
    "plt.plot()"
   ]
  }
 ],
 "metadata": {
  "kernelspec": {
   "display_name": "Python 3 (ipykernel)",
   "language": "python",
   "name": "python3"
  },
  "language_info": {
   "codemirror_mode": {
    "name": "ipython",
    "version": 3
   },
   "file_extension": ".py",
   "mimetype": "text/x-python",
   "name": "python",
   "nbconvert_exporter": "python",
   "pygments_lexer": "ipython3",
   "version": "3.10.1"
  }
 },
 "nbformat": 4,
 "nbformat_minor": 5
}
